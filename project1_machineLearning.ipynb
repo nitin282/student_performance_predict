{
 "cells": [
  {
   "cell_type": "code",
   "execution_count": 52,
   "id": "f05014d0",
   "metadata": {},
   "outputs": [
    {
     "name": "stdout",
     "output_type": "stream",
     "text": [
      "     gender race/ethnicity parental level of education         lunch  \\\n",
      "0    female        group D                some college      standard   \n",
      "1      male        group D          associate's degree      standard   \n",
      "2    female        group D                some college  free/reduced   \n",
      "3      male        group B                some college  free/reduced   \n",
      "4    female        group D          associate's degree      standard   \n",
      "..      ...            ...                         ...           ...   \n",
      "995    male        group C                some college      standard   \n",
      "996    male        group C                some college      standard   \n",
      "997  female        group A                 high school      standard   \n",
      "998    male        group E                 high school      standard   \n",
      "999    male        group D                 high school      standard   \n",
      "\n",
      "    test preparation course  math score  reading score  writing score  \n",
      "0                 completed          59             70             78  \n",
      "1                      none          96             93             87  \n",
      "2                      none          57             76             77  \n",
      "3                      none          70             70             63  \n",
      "4                      none          83             85             86  \n",
      "..                      ...         ...            ...            ...  \n",
      "995                    none          77             77             71  \n",
      "996                    none          80             66             66  \n",
      "997               completed          67             86             86  \n",
      "998                    none          80             72             62  \n",
      "999                    none          58             47             45  \n",
      "\n",
      "[1000 rows x 8 columns]\n"
     ]
    }
   ],
   "source": [
    "import pandas as pd\n",
    "data=pd.read_csv(\"exams.csv\")\n",
    "print(data)"
   ]
  },
  {
   "cell_type": "code",
   "execution_count": 53,
   "id": "739a88fe",
   "metadata": {},
   "outputs": [
    {
     "data": {
      "text/plain": [
       "gender                         0\n",
       "race/ethnicity                 0\n",
       "parental level of education    0\n",
       "lunch                          0\n",
       "test preparation course        0\n",
       "math score                     0\n",
       "reading score                  0\n",
       "writing score                  0\n",
       "dtype: int64"
      ]
     },
     "execution_count": 53,
     "metadata": {},
     "output_type": "execute_result"
    }
   ],
   "source": [
    "data.isnull().sum()"
   ]
  },
  {
   "cell_type": "code",
   "execution_count": 54,
   "id": "f33b8dc8",
   "metadata": {},
   "outputs": [
    {
     "data": {
      "text/plain": [
       "0      group D\n",
       "1      group D\n",
       "2      group D\n",
       "3      group B\n",
       "4      group D\n",
       "        ...   \n",
       "995    group C\n",
       "996    group C\n",
       "997    group A\n",
       "998    group E\n",
       "999    group D\n",
       "Name: race/ethnicity, Length: 1000, dtype: object"
      ]
     },
     "execution_count": 54,
     "metadata": {},
     "output_type": "execute_result"
    }
   ],
   "source": [
    "data[\"race/ethnicity\"]"
   ]
  },
  {
   "cell_type": "code",
   "execution_count": 55,
   "id": "8d7a4b7d",
   "metadata": {},
   "outputs": [
    {
     "name": "stdout",
     "output_type": "stream",
     "text": [
      "race/ethnicity\n",
      "group C    323\n",
      "group D    257\n",
      "group B    198\n",
      "group E    143\n",
      "group A     79\n",
      "Name: count, dtype: int64\n"
     ]
    }
   ],
   "source": [
    "count_group=data[\"race/ethnicity\"].value_counts()\n",
    "print(count_group)"
   ]
  },
  {
   "cell_type": "code",
   "execution_count": 56,
   "id": "a57e81ea",
   "metadata": {},
   "outputs": [
    {
     "data": {
      "text/plain": [
       "Index(['group C', 'group D', 'group B', 'group E', 'group A'], dtype='object', name='race/ethnicity')"
      ]
     },
     "execution_count": 56,
     "metadata": {},
     "output_type": "execute_result"
    }
   ],
   "source": [
    "x_bar=count_group.index\n",
    "x_bar\n"
   ]
  },
  {
   "cell_type": "code",
   "execution_count": 57,
   "id": "530f5895",
   "metadata": {},
   "outputs": [
    {
     "data": {
      "text/plain": [
       "array([323, 257, 198, 143,  79])"
      ]
     },
     "execution_count": 57,
     "metadata": {},
     "output_type": "execute_result"
    }
   ],
   "source": [
    "y_bar=count_group.values\n",
    "y_bar"
   ]
  },
  {
   "cell_type": "code",
   "execution_count": 58,
   "id": "78f4b736",
   "metadata": {},
   "outputs": [
    {
     "data": {
      "text/plain": [
       "Text(0, 0.5, 'number of group')"
      ]
     },
     "execution_count": 58,
     "metadata": {},
     "output_type": "execute_result"
    },
    {
     "data": {
      "image/png": "[encoded data removed]",
      "text/plain": [
       "<Figure size 640x480 with 1 Axes>"
      ]
     },
     "metadata": {},
     "output_type": "display_data"
    }
   ],
   "source": [
    "import matplotlib.pyplot as plt\n",
    "plt.bar(x_bar,y_bar)\n",
    "plt.legend(\"lower left\")\n",
    "plt.xlabel(\"group\",color=\"red\")\n",
    "plt.ylabel(\"number of group\",color=\"red\")"
   ]
  },
  {
   "cell_type": "code",
   "execution_count": 59,
   "id": "fa78354c",
   "metadata": {},
   "outputs": [
    {
     "name": "stdout",
     "output_type": "stream",
     "text": [
      "     math score  reading score  writing score\n",
      "0            59             70             78\n",
      "1            96             93             87\n",
      "2            57             76             77\n",
      "3            70             70             63\n",
      "4            83             85             86\n",
      "..          ...            ...            ...\n",
      "995          77             77             71\n",
      "996          80             66             66\n",
      "997          67             86             86\n",
      "998          80             72             62\n",
      "999          58             47             45\n",
      "\n",
      "[1000 rows x 3 columns]\n"
     ]
    },
    {
     "data": {
      "text/plain": [
       "math score       67810\n",
       "reading score    70382\n",
       "writing score    69140\n",
       "dtype: int64"
      ]
     },
     "execution_count": 59,
     "metadata": {},
     "output_type": "execute_result"
    }
   ],
   "source": [
    "student_score=data[[\"math score\",\"reading score\",\"writing score\"]]\n",
    "print(student_score)\n",
    "total=student_score.sum(axis=0)\n",
    "total\n",
    "\n"
   ]
  },
  {
   "cell_type": "code",
   "execution_count": 60,
   "id": "b61d64d6",
   "metadata": {},
   "outputs": [
    {
     "data": {
      "image/png": "[encoded data removed]",
      "text/plain": [
       "<Figure size 640x480 with 1 Axes>"
      ]
     },
     "metadata": {},
     "output_type": "display_data"
    }
   ],
   "source": [
    "plt.pie(total, labels=total.index, startangle=90, autopct=\"%1.1f%%\")\n",
    "plt.title(\"Total Scores Distribution\")\n",
    "plt.show()"
   ]
  },
  {
   "cell_type": "code",
   "execution_count": null,
   "id": "e4a6ed22",
   "metadata": {},
   "outputs": [
    {
     "name": "stdout",
     "output_type": "stream",
     "text": [
      "Encoded dataset saved successfully as 'encoded_dataset.csv'\n"
     ]
    }
   ],
   "source": [
    "from sklearn.preprocessing import LabelEncoder\n",
    "dataset=data.copy()\n",
    "encoder=LabelEncoder()\n",
    "dataset[\"Gender_encode\"] = encoder.fit_transform(dataset[\"gender\"])\n",
    "dataset[\"race_encode\"] = encoder.fit_transform(dataset[\"race/ethnicity\"])\n",
    "dataset[\"lunch_encode\"] = encoder.fit_transform(dataset[\"lunch\"])\n",
    "dataset[\"test_encode\"] = encoder.fit_transform(dataset[\"test preparation course\"])\n",
    "dataset.to_csv(\"encoded_dataset.csv\", index=False)\n",
    "print(\"Encoded dataset saved successfully as 'encoded_dataset.csv'\")\n"
   ]
  },
  {
   "cell_type": "code",
   "execution_count": 82,
   "id": "a5d5b0f9",
   "metadata": {},
   "outputs": [
    {
     "name": "stdout",
     "output_type": "stream",
     "text": [
      "StandardScaler is:\n",
      "[[-0.02709151  0.58994292 -1.01613007  0.71774056 -1.38093329  0.71085583]\n",
      " [ 1.60407283  1.18920774  0.98412598  0.71774056  0.72414794  0.71085583]\n",
      " [ 0.39842962  0.52335794 -1.01613007 -1.39326109  0.72414794  0.71085583]\n",
      " ...\n",
      " [ 1.10763151  1.12262276 -1.01613007  0.71774056 -1.38093329 -1.9122284 ]\n",
      " [ 0.11474887 -0.47541676  0.98412598  0.71774056  0.72414794  1.58521724]\n",
      " [-1.65825585 -1.60736142  0.98412598  0.71774056  0.72414794  0.71085583]]\n",
      "-------------------------------\n",
      "MinMaxScaler is:\n",
      "[[0.6        0.74117647 0.         1.         0.         0.75      ]\n",
      " [0.90666667 0.84705882 1.         1.         1.         0.75      ]\n",
      " [0.68       0.72941176 0.         0.         1.         0.75      ]\n",
      " ...\n",
      " [0.81333333 0.83529412 0.         1.         0.         0.        ]\n",
      " [0.62666667 0.55294118 1.         1.         1.         1.        ]\n",
      " [0.29333333 0.35294118 1.         1.         1.         0.75      ]]\n"
     ]
    }
   ],
   "source": [
    "from sklearn.preprocessing import StandardScaler,MinMaxScaler\n",
    "X= dataset[[\"reading score\", \"writing score\", \"Gender_encode\", \"lunch_encode\", \"test_encode\",\"race_encode\"]]\n",
    "y=dataset[\"math score\"]\n",
    "scaler=StandardScaler()\n",
    "X_scaled=scaler.fit_transform(X)\n",
    "print(\"StandardScaler is:\")\n",
    "print(X_scaled)\n",
    "\n",
    "print(\"-------------------------------\")\n",
    "scaler=MinMaxScaler()\n",
    "X_scaled=scaler.fit_transform(X)\n",
    "print(\"MinMaxScaler is:\")\n",
    "print(X_scaled)\n"
   ]
  },
  {
   "cell_type": "code",
   "execution_count": null,
   "id": "535b3dd1",
   "metadata": {},
   "outputs": [
    {
     "name": "stdout",
     "output_type": "stream",
     "text": [
      "X_train shape: (800, 5)\n",
      "X_test shape: (200, 5)\n",
      "y_train shape: (800,)\n",
      "y_test shape: (200,)\n"
     ]
    }
   ],
   "source": [
    "from sklearn.model_selection import train_test_split\n",
    "X= dataset[[\"reading score\", \"writing score\", \"Gender_encode\", \"lunch_encode\", \"test_encode\",\"race_encode\"]]\n",
    "y=dataset[\"math score\"]\n",
    "X_train, X_test, y_train, y_test=train_test_split(X,y,test_size=0.2,random_state=42)\n",
    "print(\"X_train shape:\",X_train.shape)\n",
    "print(\"X_test shape:\",X_test.shape)\n",
    "print(\"y_train shape:\",y_train.shape)\n",
    "print(\"y_test shape:\",y_test.shape)"
   ]
  },
  {
   "cell_type": "code",
   "execution_count": null,
   "id": "3b4c3728",
   "metadata": {},
   "outputs": [
    {
     "name": "stdout",
     "output_type": "stream",
     "text": [
      "Predicted math score: [91.73977526]\n"
     ]
    },
    {
     "name": "stderr",
     "output_type": "stream",
     "text": [
      "c:\\Users\\Nitin Suthar\\AppData\\Local\\Programs\\Python\\Python313\\Lib\\site-packages\\sklearn\\utils\\validation.py:2749: UserWarning: X does not have valid feature names, but LinearRegression was fitted with feature names\n",
      "  warnings.warn(\n"
     ]
    }
   ],
   "source": [
    "from sklearn.linear_model import LinearRegression\n",
    "model=LinearRegression()\n",
    "X= dataset[[\"reading score\", \"writing score\", \"Gender_encode\", \"lunch_encode\", \"test_encode\",\"race_encode\"]]\n",
    "y=dataset[\"math score\"]\n",
    "model.fit(X,y)\n",
    "reading_score=int(input(\"Enter reading score: \"))\n",
    "writing_score=int(input(\"Enter writing score: \"))\n",
    "Gender=int(input(\"enter the gender\"))\n",
    "lunch_encode=int(input(\"enter the lunch\"))\n",
    "test_encode=int(input(\"enter the test preparation course\"))\n",
    "race_encode=int(input(\"enter the race/ethnicity\"))\n",
    "predicted_score=model.predict([[reading_score,writing_score,Gender,lunch_encode,test_encode,race_encode]])\n",
    "print(\"Predicted math score:\",predicted_score)\n"
   ]
  },
  {
   "cell_type": "code",
   "execution_count": 92,
   "id": "5d07db3f",
   "metadata": {},
   "outputs": [
    {
     "name": "stdout",
     "output_type": "stream",
     "text": [
      "R-squared (R2): 0.8691304895169789\n",
      "Mean Absolute Error (MAE): 4.446724650372975\n",
      "Mean Squared Error (MSE): 30.40568550063215\n",
      "Root Mean Squared Error (RMSE): 5.514135063691508\n",
      "Model Accuracy (approx): 86.91 %\n"
     ]
    }
   ],
   "source": [
    "from sklearn.metrics import mean_absolute_error, mean_squared_error,r2_score\n",
    "import numpy as np\n",
    "y_pred=model.predict(X)\n",
    "mae=mean_absolute_error(y,y_pred)\n",
    "mse=mean_squared_error(y,y_pred)\n",
    "rmse=np.sqrt(mse)\n",
    "r2=r2_score(y,y_pred)\n",
    "print(\"R-squared (R2):\",r2)\n",
    "print(\"Mean Absolute Error (MAE):\",mae)\n",
    "print(\"Mean Squared Error (MSE):\",mse)\n",
    "print(\"Root Mean Squared Error (RMSE):\",rmse)\n",
    "print(\"Model Accuracy (approx):\", round(r2 * 100, 2), \"%\")"
   ]
  },
  {
   "cell_type": "code",
   "execution_count": 93,
   "id": "a470e5ff",
   "metadata": {},
   "outputs": [
    {
     "name": "stdout",
     "output_type": "stream",
     "text": [
      "Model saved successfully as 'math_score_model.joblib'\n"
     ]
    }
   ],
   "source": [
    "import joblib\n",
    "joblib.dump(model, \"math_score_model.joblib\")\n",
    "print(\"Model saved successfully as 'math_score_model.joblib'\")\n"
   ]
  }
 ],
 "metadata": {
  "kernelspec": {
   "display_name": "Python 3",
   "language": "python",
   "name": "python3"
  },
  "language_info": {
   "codemirror_mode": {
    "name": "ipython",
    "version": 3
   },
   "file_extension": ".py",
   "mimetype": "text/x-python",
   "name": "python",
   "nbconvert_exporter": "python",
   "pygments_lexer": "ipython3",
   "version": "3.13.5"
  }
 },
 "nbformat": 4,
 "nbformat_minor": 5
}
